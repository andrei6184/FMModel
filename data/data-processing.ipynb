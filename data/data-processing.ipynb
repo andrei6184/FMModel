{
 "cells": [
  {
   "cell_type": "code",
   "execution_count": 4,
   "metadata": {},
   "outputs": [],
   "source": [
    "from os.path import join"
   ]
  },
  {
   "cell_type": "code",
   "execution_count": 2,
   "metadata": {},
   "outputs": [],
   "source": [
    "def printSample(fn):\n",
    "    with open(fn, \"rt\") as inp:\n",
    "        for i, l in enumerate(inp):\n",
    "            if i < 4:\n",
    "                print(l)"
   ]
  },
  {
   "cell_type": "markdown",
   "metadata": {},
   "source": [
    "# ml-100k"
   ]
  },
  {
   "cell_type": "code",
   "execution_count": 106,
   "metadata": {},
   "outputs": [],
   "source": [
    "wd = \"ml-100k\""
   ]
  },
  {
   "cell_type": "code",
   "execution_count": 112,
   "metadata": {},
   "outputs": [
    {
     "name": "stdout",
     "output_type": "stream",
     "text": [
      "1\t6\t5\t887431973\n",
      "\n",
      "1\t10\t3\t875693118\n",
      "\n",
      "1\t12\t5\t878542960\n",
      "\n",
      "1\t14\t5\t874965706\n",
      "\n"
     ]
    }
   ],
   "source": [
    "printSample(join(wd, \"u1.test\"))"
   ]
  },
  {
   "cell_type": "code",
   "execution_count": 113,
   "metadata": {},
   "outputs": [],
   "source": [
    "with open(join(wd, \"u1.base\"), \"rt\") as inp, open(join(wd, \"train.csv\"), \"wt\") as out:\n",
    "    for line in inp:\n",
    "        ts = line.strip().split(\"\\t\")\n",
    "        out.write(\",\".join(ts[:3]) + \"\\n\")"
   ]
  },
  {
   "cell_type": "code",
   "execution_count": 114,
   "metadata": {},
   "outputs": [],
   "source": [
    "with open(join(wd, \"u1.test\"), \"rt\") as inp, open(join(wd, \"test.csv\"), \"wt\") as out, open(join(wd, \"ans.csv\"), \"wt\") as ans:\n",
    "    for line in inp:\n",
    "        ts = line.strip().split(\"\\t\")\n",
    "        out.write(\",\".join(ts[:2]) + \"\\n\")\n",
    "        ans.write(ts[2] + \"\\n\")"
   ]
  },
  {
   "cell_type": "markdown",
   "metadata": {},
   "source": [
    "# ml-20m"
   ]
  },
  {
   "cell_type": "code",
   "execution_count": 3,
   "metadata": {},
   "outputs": [],
   "source": [
    "wd = \"ml-20m\""
   ]
  },
  {
   "cell_type": "code",
   "execution_count": 4,
   "metadata": {},
   "outputs": [
    {
     "name": "stdout",
     "output_type": "stream",
     "text": [
      "userId,movieId,rating,timestamp\n",
      "\n",
      "1,2,3.5,1112486027\n",
      "\n",
      "1,29,3.5,1112484676\n",
      "\n",
      "1,32,3.5,1112484819\n",
      "\n"
     ]
    }
   ],
   "source": [
    "printSample(join(wd, \"ratings.csv\"))"
   ]
  },
  {
   "cell_type": "code",
   "execution_count": 5,
   "metadata": {},
   "outputs": [],
   "source": [
    "from collections import defaultdict"
   ]
  },
  {
   "cell_type": "code",
   "execution_count": 6,
   "metadata": {},
   "outputs": [],
   "source": [
    "A = defaultdict(list)\n",
    "\n",
    "with open(join(wd, \"ratings.csv\"), \"rt\") as inp:\n",
    "    inp.readline()\n",
    "    for line in inp:\n",
    "        ts = line.strip().split(\",\")\n",
    "        A[ts[0]].append(ts[1:])"
   ]
  },
  {
   "cell_type": "code",
   "execution_count": 8,
   "metadata": {},
   "outputs": [],
   "source": [
    "B, C = {}, {}"
   ]
  },
  {
   "cell_type": "code",
   "execution_count": 9,
   "metadata": {},
   "outputs": [],
   "source": [
    "for k, v in A.items():\n",
    "    s = sorted(v, key=lambda x: int(x[2]))\n",
    "    l = int(len(s) * 0.8)\n",
    "    B[k] = sorted(s[:l], key=lambda x: int(x[0]))\n",
    "    C[k] = sorted(s[l:], key=lambda x: int(x[0]))"
   ]
  },
  {
   "cell_type": "code",
   "execution_count": 12,
   "metadata": {},
   "outputs": [],
   "source": [
    "with open(join(wd, \"train.csv\"), \"wt\") as out:\n",
    "    for k, v in B.items():\n",
    "        for u in v:\n",
    "            out.write(\"%s,%s,%s\\n\" % (k, u[0], u[1]))"
   ]
  },
  {
   "cell_type": "code",
   "execution_count": 13,
   "metadata": {},
   "outputs": [],
   "source": [
    "with open(join(wd, \"test.csv\"), \"wt\") as out, open(join(wd, \"ans.csv\"), \"wt\") as ans:\n",
    "    for k, v in C.items():\n",
    "        for u in v:\n",
    "            out.write(\"%s,%s\\n\" % (k, u[0]))\n",
    "            ans.write(\"%s\\n\" % u[1])"
   ]
  },
  {
   "cell_type": "code",
   "execution_count": null,
   "metadata": {},
   "outputs": [],
   "source": []
  },
  {
   "cell_type": "markdown",
   "metadata": {},
   "source": [
    "# avazu"
   ]
  },
  {
   "cell_type": "code",
   "execution_count": 14,
   "metadata": {},
   "outputs": [],
   "source": [
    "wd = \"avazu\""
   ]
  },
  {
   "cell_type": "code",
   "execution_count": 28,
   "metadata": {},
   "outputs": [],
   "source": [
    "with open(join(wd, \"train_1.csv\"), \"rt\") as inp, open(join(wd, \"train.csv\"), \"wt\") as trF, open(join(wd, \"test.csv\"), \"wt\") as tsF, open(join(wd, \"ans.csv\"), \"wt\") as ansF:\n",
    "    inp.readline()\n",
    "    for i, line in enumerate(inp):\n",
    "        ts = line.strip().split(\",\")\n",
    "        y = \"1\" if ts[1] == \"1\" else \"-1\"\n",
    "        if i < 32343174:\n",
    "            trF.write(\",\".join(ts[3:] + [y]) + \"\\n\")\n",
    "        else:\n",
    "            tsF.write(\",\".join(ts[3:]) + \"\\n\")\n",
    "            ansF.write(y + \"\\n\")"
   ]
  },
  {
   "cell_type": "code",
   "execution_count": null,
   "metadata": {},
   "outputs": [],
   "source": []
  },
  {
   "cell_type": "markdown",
   "metadata": {},
   "source": [
    "# Convert to vowpal_wabbit"
   ]
  },
  {
   "cell_type": "code",
   "execution_count": 84,
   "metadata": {},
   "outputs": [],
   "source": [
    "wd = \"avazu\""
   ]
  },
  {
   "cell_type": "code",
   "execution_count": 85,
   "metadata": {},
   "outputs": [],
   "source": [
    "with open(join(wd, \"train.csv\"), \"rt\") as inp, open(join(wd, \"train.vw\"), \"wt\") as out:\n",
    "    for line in inp:\n",
    "        ts = line.strip().split(\",\")\n",
    "        out.write(ts[-1] + \" |x \" + \" \".join(ts[:-1]) + \"\\n\")"
   ]
  },
  {
   "cell_type": "code",
   "execution_count": 86,
   "metadata": {},
   "outputs": [],
   "source": [
    "with open(join(wd, \"test.csv\"), \"rt\") as inp, open(join(wd, \"test.vw\"), \"wt\") as out:\n",
    "    for line in inp:\n",
    "        ts = line.strip().split(\",\")\n",
    "        out.write(\"|x \" + \" \".join(ts) + \"\\n\")"
   ]
  },
  {
   "cell_type": "code",
   "execution_count": null,
   "metadata": {},
   "outputs": [],
   "source": []
  },
  {
   "cell_type": "code",
   "execution_count": null,
   "metadata": {},
   "outputs": [],
   "source": []
  },
  {
   "cell_type": "code",
   "execution_count": 13,
   "metadata": {},
   "outputs": [
    {
     "name": "stdout",
     "output_type": "stream",
     "text": [
      "32343174\n"
     ]
    }
   ],
   "source": [
    "wd = \"avazu\"\n",
    "with open(join(wd, \"train.csv\")) as inp:\n",
    "    print(len(inp.readlines()))"
   ]
  },
  {
   "cell_type": "code",
   "execution_count": null,
   "metadata": {},
   "outputs": [],
   "source": []
  },
  {
   "cell_type": "code",
   "execution_count": null,
   "metadata": {},
   "outputs": [],
   "source": []
  },
  {
   "cell_type": "code",
   "execution_count": null,
   "metadata": {},
   "outputs": [],
   "source": []
  },
  {
   "cell_type": "code",
   "execution_count": null,
   "metadata": {},
   "outputs": [],
   "source": []
  },
  {
   "cell_type": "code",
   "execution_count": null,
   "metadata": {},
   "outputs": [],
   "source": []
  },
  {
   "cell_type": "code",
   "execution_count": null,
   "metadata": {},
   "outputs": [],
   "source": []
  },
  {
   "cell_type": "code",
   "execution_count": null,
   "metadata": {},
   "outputs": [],
   "source": []
  },
  {
   "cell_type": "code",
   "execution_count": null,
   "metadata": {},
   "outputs": [],
   "source": []
  },
  {
   "cell_type": "code",
   "execution_count": null,
   "metadata": {},
   "outputs": [],
   "source": []
  },
  {
   "cell_type": "code",
   "execution_count": null,
   "metadata": {},
   "outputs": [],
   "source": []
  },
  {
   "cell_type": "code",
   "execution_count": null,
   "metadata": {},
   "outputs": [],
   "source": []
  },
  {
   "cell_type": "code",
   "execution_count": null,
   "metadata": {},
   "outputs": [],
   "source": []
  },
  {
   "cell_type": "code",
   "execution_count": null,
   "metadata": {},
   "outputs": [],
   "source": []
  },
  {
   "cell_type": "code",
   "execution_count": null,
   "metadata": {},
   "outputs": [],
   "source": []
  },
  {
   "cell_type": "code",
   "execution_count": null,
   "metadata": {},
   "outputs": [],
   "source": []
  },
  {
   "cell_type": "markdown",
   "metadata": {},
   "source": [
    "# Validation"
   ]
  },
  {
   "cell_type": "code",
   "execution_count": 1,
   "metadata": {},
   "outputs": [],
   "source": [
    "import numpy as np\n",
    "\n",
    "from sklearn.metrics import mean_squared_error\n",
    "from sklearn.metrics import accuracy_score\n",
    "from sklearn.metrics import roc_auc_score"
   ]
  },
  {
   "cell_type": "code",
   "execution_count": 2,
   "metadata": {},
   "outputs": [],
   "source": [
    "wd = \"ml-100k\""
   ]
  },
  {
   "cell_type": "code",
   "execution_count": 5,
   "metadata": {},
   "outputs": [],
   "source": [
    "with open(join(wd, \"ans.csv\"), \"rt\") as inp:\n",
    "    y_true = np.fromiter(inp, dtype = np.float64)"
   ]
  },
  {
   "cell_type": "code",
   "execution_count": 8,
   "metadata": {},
   "outputs": [],
   "source": [
    "with open(join(wd, \"ans.fm\"), \"rt\") as inp:\n",
    "    y_pred = np.fromiter(inp, dtype = np.float64)"
   ]
  },
  {
   "cell_type": "code",
   "execution_count": 9,
   "metadata": {},
   "outputs": [
    {
     "data": {
      "text/plain": [
       "1.2253588861534443"
      ]
     },
     "execution_count": 9,
     "metadata": {},
     "output_type": "execute_result"
    }
   ],
   "source": [
    "mean_squared_error(y_true, y_pred)"
   ]
  },
  {
   "cell_type": "code",
   "execution_count": 123,
   "metadata": {},
   "outputs": [],
   "source": [
    "wd = \"avazu\""
   ]
  },
  {
   "cell_type": "code",
   "execution_count": 124,
   "metadata": {},
   "outputs": [],
   "source": [
    "with open(join(wd, \"ans.csv\"), \"rt\") as inp:\n",
    "    y_true = np.fromiter(inp, dtype = np.int32)"
   ]
  },
  {
   "cell_type": "code",
   "execution_count": 125,
   "metadata": {},
   "outputs": [],
   "source": [
    "with open(join(wd, \"ans.fm\"), \"rt\") as inp:\n",
    "    y_pred = np.fromiter(inp, dtype = np.float64)"
   ]
  },
  {
   "cell_type": "code",
   "execution_count": 126,
   "metadata": {},
   "outputs": [
    {
     "data": {
      "text/plain": [
       "0.8405294323018163"
      ]
     },
     "execution_count": 126,
     "metadata": {},
     "output_type": "execute_result"
    }
   ],
   "source": [
    "accuracy_score(y_true, np.sign(y_pred))"
   ]
  },
  {
   "cell_type": "code",
   "execution_count": 127,
   "metadata": {},
   "outputs": [
    {
     "data": {
      "text/plain": [
       "0.7357233149081787"
      ]
     },
     "execution_count": 127,
     "metadata": {},
     "output_type": "execute_result"
    }
   ],
   "source": [
    "roc_auc_score(y_true, y_pred)"
   ]
  },
  {
   "cell_type": "code",
   "execution_count": null,
   "metadata": {},
   "outputs": [],
   "source": []
  }
 ],
 "metadata": {
  "kernelspec": {
   "display_name": "Python 3",
   "language": "python",
   "name": "python3"
  },
  "language_info": {
   "codemirror_mode": {
    "name": "ipython",
    "version": 3
   },
   "file_extension": ".py",
   "mimetype": "text/x-python",
   "name": "python",
   "nbconvert_exporter": "python",
   "pygments_lexer": "ipython3",
   "version": "3.6.4"
  }
 },
 "nbformat": 4,
 "nbformat_minor": 2
}
